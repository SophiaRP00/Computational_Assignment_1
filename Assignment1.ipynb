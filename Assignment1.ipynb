{
 "cells": [
  {
   "cell_type": "code",
   "execution_count": 3,
   "metadata": {},
   "outputs": [],
   "source": [
    "# Link to GitLab Repository\n",
    "GitRep = \"https://gitlab.gbar.dtu.dk/s224222/computational_assignment1\"\n"
   ]
  },
  {
   "cell_type": "code",
   "execution_count": 1,
   "metadata": {},
   "outputs": [],
   "source": [
    "import requests\n",
    "from bs4 import BeautifulSoup\n",
    "import difflib"
   ]
  },
  {
   "cell_type": "markdown",
   "metadata": {},
   "source": [
    "WEEK 1 - WEBSCRABING & API"
   ]
  },
  {
   "cell_type": "markdown",
   "metadata": {},
   "source": [
    "Webscraping"
   ]
  },
  {
   "cell_type": "code",
   "execution_count": null,
   "metadata": {},
   "outputs": [],
   "source": [
    "url = \"https://ic2s2-2023.org/program\"\n",
    "\n",
    "response = requests.get(url)\n",
    "soup = BeautifulSoup(response.text, \"html.parser\")"
   ]
  },
  {
   "cell_type": "code",
   "execution_count": null,
   "metadata": {},
   "outputs": [],
   "source": [
    "soup.find_all(\"i\")"
   ]
  },
  {
   "cell_type": "code",
   "execution_count": null,
   "metadata": {},
   "outputs": [],
   "source": [
    "# Get all the names into a table\n",
    "names = []\n",
    "for i in soup.find_all(\"i\"):\n",
    "    names.append(i.text)\n",
    "\n",
    "names = \",\".join(names)\n",
    "\n",
    "\n",
    "# if \"chair\" in names: Remove the \"chair\"\n",
    "\n",
    "names = names.replace(\"Chair: \", \"\")\n",
    "names = names.split(\",\")\n",
    "map(str.strip, names)\n",
    "print(names)"
   ]
  },
  {
   "cell_type": "code",
   "execution_count": null,
   "metadata": {},
   "outputs": [],
   "source": [
    "# Remove doublicates\n",
    "for i in range(len(names)):\n",
    "    names[i] = names[i].lower()\n",
    "    names[i] = names[i].strip()\n",
    "names = list(set(names))\n",
    "# and sort alphabetically\n",
    "\n",
    "names.sort()\n",
    "print(names)"
   ]
  },
  {
   "cell_type": "code",
   "execution_count": null,
   "metadata": {},
   "outputs": [],
   "source": [
    "duplicate = []\n",
    "for i in range(len(names)):\n",
    "    for j in range(i+1, len(names)):\n",
    "        if difflib.SequenceMatcher(None, names[i], names[j]).ratio() > 0.95:\n",
    "            duplicate.append(names[j].lower().strip())\n",
    "\n",
    "print(duplicate)"
   ]
  },
  {
   "cell_type": "code",
   "execution_count": null,
   "metadata": {},
   "outputs": [],
   "source": [
    "# Remove one of the duplicates from the list\n",
    "names = [x for x in names if x not in duplicate]\n",
    "print(names)"
   ]
  },
  {
   "cell_type": "code",
   "execution_count": null,
   "metadata": {},
   "outputs": [],
   "source": [
    "print(len(names)), print(names)"
   ]
  },
  {
   "cell_type": "code",
   "execution_count": null,
   "metadata": {},
   "outputs": [],
   "source": [
    "# Create a txt file with the names\n",
    "\n",
    "with open(\"names.txt\", \"w\") as f:\n",
    "    for name in names:\n",
    "        f.write(name + \"\\n\")"
   ]
  }
 ],
 "metadata": {
  "kernelspec": {
   "display_name": "base",
   "language": "python",
   "name": "python3"
  },
  "language_info": {
   "codemirror_mode": {
    "name": "ipython",
    "version": 3
   },
   "file_extension": ".py",
   "mimetype": "text/x-python",
   "name": "python",
   "nbconvert_exporter": "python",
   "pygments_lexer": "ipython3",
   "version": "3.9.21"
  },
  "orig_nbformat": 4
 },
 "nbformat": 4,
 "nbformat_minor": 2
}
